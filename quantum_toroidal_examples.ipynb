{
 "cells": [
  {
   "cell_type": "code",
   "execution_count": 1,
   "metadata": {},
   "outputs": [],
   "source": [
    "%display latex\n",
    "load(\"quantum_toroidal.sage\")"
   ]
  },
  {
   "cell_type": "code",
   "execution_count": 2,
   "metadata": {},
   "outputs": [
    {
     "data": {
      "text/html": [
       "<html><script type=\"math/tex; mode=display\">\\newcommand{\\Bold}[1]{\\mathbf{#1}}U_{q}(\\widehat{\\widehat{\\mathfrak{gl}}}_1)</script></html>"
      ],
      "text/plain": [
       "Quantum toroidal algebra (t1=t1^2 and t2=t2^2)"
      ]
     },
     "execution_count": 2,
     "metadata": {},
     "output_type": "execute_result"
    }
   ],
   "source": [
    "# Set up the base ring for the quantum toroidal algebra.\n",
    "R.<t1,t2> = LaurentPolynomialRing(ZZ)\n",
    "\n",
    "# There are square roots involved, so square all variables.\n",
    "t1, t2 = t1^2, t2^2\n",
    "\n",
    "# Create the quantum toroidal algebra.\n",
    "QTA = QuantumToroidalAlgebra(t1, t2)\n",
    "QTA"
   ]
  },
  {
   "cell_type": "code",
   "execution_count": 3,
   "metadata": {},
   "outputs": [
    {
     "data": {
      "text/html": [
       "<html><script type=\"math/tex; mode=display\">\\newcommand{\\Bold}[1]{\\mathbf{#1}}K_{(1,0)} e_{(1,0)} e_{(2,1)}</script></html>"
      ],
      "text/plain": [
       "K(1,0)*e(1,0)*e(2,1)"
      ]
     },
     "execution_count": 3,
     "metadata": {},
     "output_type": "execute_result"
    }
   ],
   "source": [
    "# Terms in products are ordered by increasing slope.\n",
    "# Central elements K(a,b) are always put in front.\n",
    "QTA.e(1,0) * QTA.e(2,1) * QTA.K(1,0)"
   ]
  },
  {
   "cell_type": "code",
   "execution_count": 4,
   "metadata": {},
   "outputs": [
    {
     "data": {
      "text/html": [
       "<html><script type=\"math/tex; mode=display\">\\newcommand{\\Bold}[1]{\\mathbf{#1}}K_{(1,0)} e_{(3,1)} + K_{(1,0)} e_{(1,0)} e_{(2,1)}</script></html>"
      ],
      "text/plain": [
       "K(1,0)*e(3,1) + K(1,0)*e(1,0)*e(2,1)"
      ]
     },
     "execution_count": 4,
     "metadata": {},
     "output_type": "execute_result"
    }
   ],
   "source": [
    "QTA.e(2,1) * QTA.e(1,0) * QTA.K(1,0)"
   ]
  },
  {
   "cell_type": "code",
   "execution_count": 5,
   "metadata": {},
   "outputs": [
    {
     "data": {
      "text/html": [
       "<html><script type=\"math/tex; mode=display\">\\newcommand{\\Bold}[1]{\\mathbf{#1}}\\left(\\frac{-t_{1}^{2} t_{2}^{2}}{t_{1}^{4} t_{2}^{4} - t_{1}^{4} t_{2}^{2} - t_{1}^{2} t_{2}^{4} + t_{1}^{2} + t_{2}^{2} - 1}\\right)K_{(1,1)} + \\left(\\frac{t_{1}^{2} t_{2}^{2}}{t_{1}^{4} t_{2}^{4} - t_{1}^{4} t_{2}^{2} - t_{1}^{2} t_{2}^{4} + t_{1}^{2} + t_{2}^{2} - 1}\\right)K_{(-1,-1)}</script></html>"
      ],
      "text/plain": [
       "((-t1^2*t2^2)/(t1^4*t2^4-t1^4*t2^2-t1^2*t2^4+t1^2+t2^2-1))*K(1,1) + (t1^2*t2^2/(t1^4*t2^4-t1^4*t2^2-t1^2*t2^4+t1^2+t2^2-1))*K(-1,-1)"
      ]
     },
     "execution_count": 5,
     "metadata": {},
     "output_type": "execute_result"
    }
   ],
   "source": [
    "# Useful shorthand for commutators.\n",
    "QTA.bracket(QTA.e(1,1), QTA.e(-1,-1))"
   ]
  },
  {
   "cell_type": "code",
   "execution_count": 6,
   "metadata": {},
   "outputs": [
    {
     "data": {
      "text/html": [
       "<html><script type=\"math/tex; mode=display\">\\newcommand{\\Bold}[1]{\\mathbf{#1}}\\verb|Symmetric|\\phantom{\\verb!x!}\\verb|Functions|\\phantom{\\verb!x!}\\verb|over|\\phantom{\\verb!x!}\\verb|Fraction|\\phantom{\\verb!x!}\\verb|Field|\\phantom{\\verb!x!}\\verb|of|\\phantom{\\verb!x!}\\verb|Multivariate|\\phantom{\\verb!x!}\\verb|Polynomial|\\phantom{\\verb!x!}\\verb|Ring|\\phantom{\\verb!x!}\\verb|in|\\phantom{\\verb!x!}\\verb|t1,|\\phantom{\\verb!x!}\\verb|t2|\\phantom{\\verb!x!}\\verb|over|\\phantom{\\verb!x!}\\verb|Integer|\\phantom{\\verb!x!}\\verb|Ring|</script></html>"
      ],
      "text/plain": [
       "Symmetric Functions over Fraction Field of Multivariate Polynomial Ring in t1, t2 over Integer Ring"
      ]
     },
     "execution_count": 6,
     "metadata": {},
     "output_type": "execute_result"
    }
   ],
   "source": [
    "# Set up a ring of symmetric functions to test the\n",
    "# (level (0,1)) Fock representation of the algebra.\n",
    "Sym = SymmetricFunctions(R.fraction_field())\n",
    "Sym"
   ]
  },
  {
   "cell_type": "code",
   "execution_count": 7,
   "metadata": {},
   "outputs": [
    {
     "data": {
      "text/html": [
       "<html><script type=\"math/tex; mode=display\">\\newcommand{\\Bold}[1]{\\mathbf{#1}}2p_{1}</script></html>"
      ],
      "text/plain": [
       "2*p[1]"
      ]
     },
     "execution_count": 7,
     "metadata": {},
     "output_type": "execute_result"
    }
   ],
   "source": [
    "# Act directly on symmetric functions with algebra elements.\n",
    "QTA.e(1,0) * Sym.powersum()[1,1]"
   ]
  },
  {
   "cell_type": "code",
   "execution_count": 8,
   "metadata": {},
   "outputs": [
    {
     "data": {
      "text/html": [
       "<html><script type=\"math/tex; mode=display\">\\newcommand{\\Bold}[1]{\\mathbf{#1}}\\verb|Symmetric|\\phantom{\\verb!x!}\\verb|Functions|\\phantom{\\verb!x!}\\verb|over|\\phantom{\\verb!x!}\\verb|Fraction|\\phantom{\\verb!x!}\\verb|Field|\\phantom{\\verb!x!}\\verb|of|\\phantom{\\verb!x!}\\verb|Multivariate|\\phantom{\\verb!x!}\\verb|Polynomial|\\phantom{\\verb!x!}\\verb|Ring|\\phantom{\\verb!x!}\\verb|in|\\phantom{\\verb!x!}\\verb|t1,|\\phantom{\\verb!x!}\\verb|t2|\\phantom{\\verb!x!}\\verb|over|\\phantom{\\verb!x!}\\verb|Integer|\\phantom{\\verb!x!}\\verb|Ring|\\phantom{\\verb!x!}\\verb|in|\\phantom{\\verb!x!}\\verb|the|\\phantom{\\verb!x!}\\verb|Macdonald|\\phantom{\\verb!x!}\\verb|Ht|\\phantom{\\verb!x!}\\verb|with|\\phantom{\\verb!x!}\\verb|q=t1^2|\\phantom{\\verb!x!}\\verb|and|\\phantom{\\verb!x!}\\verb|t=t2^2|\\phantom{\\verb!x!}\\verb|basis|</script></html>"
      ],
      "text/plain": [
       "Symmetric Functions over Fraction Field of Multivariate Polynomial Ring in t1, t2 over Integer Ring in the Macdonald Ht with q=t1^2 and t=t2^2 basis"
      ]
     },
     "execution_count": 8,
     "metadata": {},
     "output_type": "execute_result"
    }
   ],
   "source": [
    "# Abstract ring of Macdonald polynomials.\n",
    "Mcd = Sym.macdonald(q=t1, t=t2)\n",
    "\n",
    "# Use the plethystically-modified Macdonald basis (Haiman)\n",
    "# corresponding to fixed points in Hilb.\n",
    "Ht = Mcd.Ht()\n",
    "Ht"
   ]
  },
  {
   "cell_type": "code",
   "execution_count": 9,
   "metadata": {
    "scrolled": true
   },
   "outputs": [
    {
     "data": {
      "text/html": [
       "<html><script type=\"math/tex; mode=display\">\\newcommand{\\Bold}[1]{\\mathbf{#1}}\\left(\\frac{-t_{1}^{4} + t_{2}^{2}}{-t_{1}^{2} + t_{2}^{2}}\\right)McdHt_{1,1} + \\left(\\frac{t_{2}^{4} - t_{1}^{2}}{-t_{1}^{2} + t_{2}^{2}}\\right)McdHt_{2}</script></html>"
      ],
      "text/plain": [
       "((-t1^4+t2^2)/(-t1^2+t2^2))*McdHt[1, 1] + ((t2^4-t1^2)/(-t1^2+t2^2))*McdHt[2]"
      ]
     },
     "execution_count": 9,
     "metadata": {},
     "output_type": "execute_result"
    }
   ],
   "source": [
    "QTA.e(1,0) * Ht[2,1]"
   ]
  },
  {
   "cell_type": "code",
   "execution_count": 10,
   "metadata": {},
   "outputs": [],
   "source": [
    "##############################################\n",
    "## Sanity checks."
   ]
  },
  {
   "cell_type": "code",
   "execution_count": 11,
   "metadata": {},
   "outputs": [
    {
     "data": {
      "text/html": [
       "<html><script type=\"math/tex; mode=display\">\\newcommand{\\Bold}[1]{\\mathbf{#1}}\\mathrm{True}</script></html>"
      ],
      "text/plain": [
       "True"
      ]
     },
     "execution_count": 11,
     "metadata": {},
     "output_type": "execute_result"
    }
   ],
   "source": [
    "# Check Leibniz rule\n",
    "def test_leibniz(a, b, c):\n",
    "    return (QTA.bracket(QTA.bracket(QTA.e(a), QTA.e(b)), QTA.e(c)) +\n",
    "            QTA.bracket(QTA.bracket(QTA.e(b), QTA.e(c)), QTA.e(a)) +\n",
    "            QTA.bracket(QTA.bracket(QTA.e(c), QTA.e(a)), QTA.e(b))) == QTA.zero()\n",
    "test_leibniz((-2,1), (2,1), (-1,1))"
   ]
  },
  {
   "cell_type": "code",
   "execution_count": 13,
   "metadata": {},
   "outputs": [
    {
     "name": "stdout",
     "output_type": "stream",
     "text": [
      "True\n",
      "True\n",
      "True\n",
      "True\n"
     ]
    }
   ],
   "source": [
    "# Check that the Fock action is an algebra homomorphism.\n",
    "def test_alg_hom(a, b, n):\n",
    "    return QTA.e(a) * (QTA.e(b) * Ht[n]) == (QTA.e(a) * QTA.e(b)) * Ht[n]\n",
    "\n",
    "tests = [((0,1), (1,1), 1), ((1,1), (2,0), 3), ((1,2), (1,-1), 3),\n",
    "         ((1,1), (-1,0), 2)]\n",
    "for a, b, n in tests:\n",
    "    print(test_alg_hom(a, b, n))"
   ]
  }
 ],
 "metadata": {
  "kernelspec": {
   "display_name": "SageMath 9.0",
   "language": "sage",
   "name": "sagemath"
  },
  "language_info": {
   "codemirror_mode": {
    "name": "ipython",
    "version": 3
   },
   "file_extension": ".py",
   "mimetype": "text/x-python",
   "name": "python",
   "nbconvert_exporter": "python",
   "pygments_lexer": "ipython3",
   "version": "3.7.3"
  }
 },
 "nbformat": 4,
 "nbformat_minor": 2
}
